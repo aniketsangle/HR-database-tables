{
 "cells": [
  {
   "cell_type": "markdown",
   "id": "216214ea-f4cc-42c5-8489-2638483d970c",
   "metadata": {},
   "source": [
    "Python script to insert Excel data into a MySQL database using pandas and MySQL Connector. 🚀\n",
    "\n",
    "🔹 Steps in the Script\n",
    "Load Excel File → Read data using pandas.\n",
    "Connect to MySQL → Use mysql-connector-python.\n",
    "Insert Data into MySQL → Loop through the DataFrame and insert rows"
   ]
  },
  {
   "cell_type": "code",
   "execution_count": null,
   "id": "9f40dd50-adb5-488b-a8eb-61a6352a4d48",
   "metadata": {},
   "outputs": [],
   "source": [
    "pip install pandas mysql-connector-python openpyxl"
   ]
  },
  {
   "cell_type": "raw",
   "id": "e65aa9cd-0f91-4001-896a-1ec658a79ccb",
   "metadata": {},
   "source": [
    "import pandas as pd\n",
    "import mysql.connector\n",
    "\n",
    "# 📌 MySQL Database Connection Details\n",
    "MYSQL_HOST = \"localhost\"\n",
    "MYSQL_USER = \"root\"\n",
    "MYSQL_PASSWORD = \"your_password\"\n",
    "MYSQL_DATABASE = \"hr_applicants_db\"\n",
    "\n",
    "# 📌 Load Excel Data (Update file path)\n",
    "excel_file = \"applicants_data.xlsx\"\n",
    "df = pd.read_excel(excel_file)\n",
    "\n",
    "# 📌 Connect to MySQL\n",
    "conn = mysql.connector.connect(\n",
    "    host=MYSQL_HOST,\n",
    "    user=MYSQL_USER,\n",
    "    password=MYSQL_PASSWORD,\n",
    "    database=MYSQL_DATABASE\n",
    ")\n",
    "cursor = conn.cursor()\n",
    "\n",
    "# 📌 SQL Query to Insert Data into `applicants` Table\n",
    "insert_query = \"\"\"\n",
    "INSERT INTO applicants (first_name, last_name, email, phone_number, dob, gender, nationality)\n",
    "VALUES (%s, %s, %s, %s, %s, %s, %s)\n",
    "\"\"\"\n",
    "\n",
    "# 📌 Iterate Through DataFrame and Insert Rows\n",
    "for _, row in df.iterrows():\n",
    "    cursor.execute(insert_query, (\n",
    "        row[\"first_name\"], row[\"last_name\"], row[\"email\"], row[\"phone_number\"],\n",
    "        row[\"dob\"], row[\"gender\"], row[\"nationality\"]\n",
    "    ))\n",
    "\n",
    "# 📌 Commit Changes and Close Connection\n",
    "conn.commit()\n",
    "cursor.close()\n",
    "conn.close()\n",
    "\n",
    "print(\"✅ Data Inserted Successfully!\")\n"
   ]
  },
  {
   "cell_type": "raw",
   "id": "b90d1891-d488-41ec-93ad-86e8decd818d",
   "metadata": {},
   "source": [
    "Python script to perform bulk insertion into multiple MySQL tables (applications, education, experience, skills) from Excel files. 🚀\n",
    "\n",
    "🔹 Steps Covered in the Script\n",
    "Load Excel data using pandas.\n",
    "Connect to MySQL using mysql-connector-python.\n",
    "Bulk Insert Data into multiple tables (applications, education, experience, skills).\n",
    "Handle Errors & Commit Transactions.\n",
    "📝 Prerequisites\n",
    "1️⃣ Install Required Libraries"
   ]
  },
  {
   "cell_type": "code",
   "execution_count": null,
   "id": "2726a57c-9021-4508-a19f-c11d7d953bb7",
   "metadata": {},
   "outputs": [],
   "source": []
  }
 ],
 "metadata": {
  "kernelspec": {
   "display_name": "Python 3 (ipykernel)",
   "language": "python",
   "name": "python3"
  },
  "language_info": {
   "codemirror_mode": {
    "name": "ipython",
    "version": 3
   },
   "file_extension": ".py",
   "mimetype": "text/x-python",
   "name": "python",
   "nbconvert_exporter": "python",
   "pygments_lexer": "ipython3",
   "version": "3.12.7"
  }
 },
 "nbformat": 4,
 "nbformat_minor": 5
}
