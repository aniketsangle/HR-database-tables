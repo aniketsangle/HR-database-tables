Let's go step by step with a specific example based on our HR database structure.


---

HR Database Schema

1. Department (Master Table)

DepartmentID (Primary Key)

DepartmentName



2. Employee (Child Table, linked to Department)

EmployeeID (Primary Key)

Name

DepartmentID (Foreign Key referencing Department.DepartmentID)



3. EmployeeSalary (Child Table, linked to Employee)

SalaryID (Primary Key)

EmployeeID (Foreign Key referencing Employee.EmployeeID)

Salary

EffectiveDate





---

Example 1: Automatic Update in Child Table using Foreign Key & ON UPDATE CASCADE

We want DepartmentID to automatically update in Employee when it changes in Department.

Step 1: Define the Foreign Key Constraint

ALTER TABLE Employee 
ADD CONSTRAINT FK_Department 
FOREIGN KEY (DepartmentID) 
REFERENCES Department(DepartmentID) 
ON UPDATE CASCADE;

This ensures that if DepartmentID changes in Department, it updates in Employee too.

Step 2: Insert Data

INSERT INTO Department (DepartmentID, DepartmentName) 
VALUES (1, 'HR'), (2, 'IT');
  
INSERT INTO Employee (EmployeeID, Name, DepartmentID) 
VALUES (101, 'John Doe', 1),
       (102, 'Jane Smith', 2);

Step 3: Update Department ID

UPDATE Department 
SET DepartmentID = 3 
WHERE DepartmentID = 2;

Step 4: Check if Employee Table Updated Automatically

SELECT * FROM Employee;

Now, Employee.DepartmentID = 2 will automatically change to 3 in the Employee table.


---

Example 2: Automatically Insert Employee Salary Using a Trigger

When a new employee is added to Employee, we want to automatically insert their salary record in EmployeeSalary.

Step 1: Create the Trigger

CREATE TRIGGER after_employee_insert
AFTER INSERT ON Employee
FOR EACH ROW
BEGIN
    INSERT INTO EmployeeSalary (EmployeeID, Salary, EffectiveDate)
    VALUES (NEW.EmployeeID, 50000, NOW());
END;

Step 2: Insert a New Employee

INSERT INTO Employee (EmployeeID, Name, DepartmentID) 
VALUES (103, 'Alice Brown', 1);

Step 3: Check if Salary Data is Automatically Inserted

SELECT * FROM EmployeeSalary WHERE EmployeeID = 103;

You will see that EmployeeID 103 has a salary record with 50000 automatically inserted.


---

Example 3: Insert Employee and Salary Together Using a Stored Procedure

Instead of a trigger, we can use a stored procedure to insert an employee and their salary at the same time.

Step 1: Create the Stored Procedure

CREATE PROCEDURE InsertEmployeeWithSalary (
    IN emp_name VARCHAR(100),
    IN dept_id INT,
    IN salary DECIMAL(10,2)
)
BEGIN
    INSERT INTO Employee (Name, DepartmentID) 
    VALUES (emp_name, dept_id);

    INSERT INTO EmployeeSalary (EmployeeID, Salary, EffectiveDate) 
    VALUES (LAST_INSERT_ID(), salary, NOW());
END;

Step 2: Call the Procedure to Insert Data

CALL InsertEmployeeWithSalary('Michael Green', 1, 70000);

Step 3: Verify Data in Both Tables

SELECT * FROM Employee WHERE Name = 'Michael Green';
SELECT * FROM EmployeeSalary WHERE EmployeeID = (SELECT EmployeeID FROM Employee WHERE Name = 'Michael Green');

You will see that the new employee and their salary have been inserted automatically.


---

Summary

Would you like any modifications to fit your specific database structure?

